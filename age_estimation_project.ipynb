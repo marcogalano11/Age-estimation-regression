{
 "cells": [
  {
   "cell_type": "markdown",
   "id": "8f8f170a-37e5-4780-a7aa-538d65512ec0",
   "metadata": {},
   "source": [
    "**Import of the needed libraries**"
   ]
  },
  {
   "cell_type": "code",
   "execution_count": 1,
   "id": "650fab05-0fbc-4337-b4dd-5f1478c06aec",
   "metadata": {},
   "outputs": [],
   "source": [
    "import pandas as pd\n",
    "import numpy as np\n",
    "from sklearn.decomposition import PCA\n",
    "from sklearn.preprocessing import StandardScaler\n",
    "import matplotlib.pyplot as plt\n",
    "from sklearn.ensemble import RandomForestRegressor\n",
    "from sklearn.neural_network import MLPRegressor\n",
    "from sklearn.model_selection import train_test_split, GridSearchCV\n",
    "from sklearn.metrics import root_mean_squared_error\n",
    "from sklearn.pipeline import Pipeline\n",
    "from librosa import load, get_duration\n",
    "from librosa.feature import mfcc\n",
    "\n",
    "pd.set_option('display.max_colwidth', None)"
   ]
  },
  {
   "cell_type": "markdown",
   "id": "1858b0b7-d321-4dea-82c7-f4ecce4272bd",
   "metadata": {},
   "source": [
    "**Definition of the functions to compute MFCC and plot the duration of audio files**"
   ]
  },
  {
   "cell_type": "code",
   "execution_count": 2,
   "id": "30975ec5-1867-40b7-af32-818602f00c80",
   "metadata": {},
   "outputs": [],
   "source": [
    "def compute_mfcc_from_paths(audio_paths, n=10):\n",
    "    mfccs = []\n",
    "    for audio_path in audio_paths:\n",
    "        y, sr = load(audio_path)\n",
    "        curr_mfcc = mfcc(y=y, sr=sr, n_mfcc=n)\n",
    "        mfccs.append(pd.Series(np.mean(curr_mfcc,axis=1), index=[f\"mean_{i}\" for i in range(n)]))\n",
    "    return mfccs\n",
    "    \n",
    "def plot_audio_durations(audio_paths):\n",
    "    durations = []\n",
    "\n",
    "    for path in audio_paths:\n",
    "        y, sr = load(path, sr=None)\n",
    "        duration = get_duration(y=y, sr=sr)\n",
    "        durations.append(duration)\n",
    "\n",
    "    plt.figure()\n",
    "    plt.bar(range(len(durations)), durations)\n",
    "    plt.xlabel(\"Audio Files\")\n",
    "    plt.ylabel(\"Duration (seconds)\")\n",
    "    plt.title(\"Audio File Durations\")\n",
    "    plt.show()"
   ]
  },
  {
   "cell_type": "markdown",
   "id": "446fa43a-e4d3-4b22-a04f-e19b77b01d39",
   "metadata": {},
   "source": [
    "**Dataframes acquisition and first inspection of the values**"
   ]
  },
  {
   "cell_type": "code",
   "execution_count": null,
   "id": "ecac1642-a6d1-4bbf-88e2-5be5760da465",
   "metadata": {},
   "outputs": [
    {
     "name": "stdout",
     "output_type": "stream",
     "text": [
      "The number of missing values in df_dev is: 0\n",
      "The number of missing values in df_eval is: 0\n"
     ]
    },
    {
     "data": {
      "image/png": "[encoded data removed]",
      "text/plain": [
       "<Figure size 640x480 with 1 Axes>"
      ]
     },
     "metadata": {},
     "output_type": "display_data"
    }
   ],
   "source": [
    "df_dev = pd.read_csv(\"development.csv\", index_col=0)\n",
    "df_eval = pd.read_csv(\"evaluation.csv\", index_col=0)\n",
    "\n",
    "print(f\"The number of missing values in df_dev is: {df_dev.isna().sum().sum()}\")\n",
    "print(f\"The number of missing values in df_eval is: {df_eval.isna().sum().sum()}\")\n",
    "\n",
    "under_18 = df_dev[df_dev[\"age\"] < 18][\"age\"].count()\n",
    "between_18_35 = df_dev[(df_dev[\"age\"] >= 18) & (df_dev[\"age\"] < 35)][\"age\"].count()\n",
    "over_35 = df_dev[df_dev[\"age\"] >= 35][\"age\"].count()\n",
    "ages_counts = [under_18, between_18_35, over_35]\n",
    "ages_groups = [\"<18\",\"18-34\",\">35\"]\n",
    "\n",
    "plt.figure()\n",
    "plt.bar(ages_groups,ages_counts)\n",
    "plt.title(\"Distribution of ages in the Dataset\")\n",
    "plt.ylabel(\"Age count per group\")\n",
    "plt.xlabel(\"Age groups\")\n",
    "plt.show()\n",
    "\n",
    "plot_audio_durations(df_dev[\"path\"].values) #we plot the durations of audio in the df_dev\n",
    "\n",
    "corr_df = df_dev[df_dev.select_dtypes(exclude=object).columns].corr()\n",
    "print(corr_df.loc[[\"num_words\",\"num_characters\"],[\"num_words\",\"num_characters\"]])\n",
    "\n",
    "print(f\"Categorical features are: {df_dev.select_dtypes(exclude=np.number).columns}\")\n",
    "\n",
    "df = pd.concat([df_dev,df_eval], sort=False) #stack the dev and eval dataframes to work on both simultaneously\n",
    "mask = df[\"age\"].isna() #creates a mask to distinguish the two dataframes"
   ]
  },
  {
   "cell_type": "markdown",
   "id": "4566da82-13bb-4b75-876a-2fcc8829ea54",
   "metadata": {},
   "source": [
    "**Data cleaning operations and dropping of unuseful features**"
   ]
  },
  {
   "cell_type": "code",
   "execution_count": null,
   "id": "f5033457-4dc2-4aab-afe9-4030a476a24e",
   "metadata": {},
   "outputs": [],
   "source": [
    "print(f\"Values in gender column: {df['gender'].unique()}\")\n",
    "df.loc[df[\"gender\"]==\"famale\",\"gender\"]=\"female\" #correction of wrong data in the gender column\n",
    "df = pd.get_dummies(df, columns=[\"gender\"]) #one hot encoding on gender column\n",
    "\n",
    "print(f\"Total number of ethnicities: {len(df[\"ethnicity\"].unique())}\")\n",
    "    \n",
    "set_a = set(df_eval[\"ethnicity\"].values)\n",
    "print(f\"Total number of ethnicities in df_eval: {len(set_a)}\")\n",
    "set_b = set(df_dev[\"ethnicity\"].values)\n",
    "print(f\"Total number of ethnicities in df_dev: {len(set_b)}\")\n",
    "set_c = set_a-set_b #ethnicities that are in df_eval but not in df_dev\n",
    "print(f\"Total number of ethnicities in df_eval but not in df_dev: {len(set_c)}\")\n",
    "\n",
    "print(f\"Total number of records in df_eval having an ethnicity not present in df_dev: {df_eval[df_eval[\"ethnicity\"].isin(set_c)].shape[0]}\") #430 records having an ethnicity not in df_dev\n",
    "\n",
    "df[\"tempo\"] = [float(val.rstrip(\"]\").lstrip(\"[\")) for val in df[\"tempo\"]] #formatting of the tempo feature\n",
    "\n",
    "paths = df[\"path\"].values\n",
    "df = df.drop(columns=[\"sampling_rate\",\"path\",\"ethnicity\",\"min_pitch\",\"max_pitch\",\"num_characters\"]) #dropping the unuseful columns"
   ]
  },
  {
   "cell_type": "markdown",
   "id": "c82e6e04-f9e4-4ea6-9dd8-ea6179324bef",
   "metadata": {},
   "source": [
    "**Tuning for the ideal number of mean MFCC to compute**"
   ]
  },
  {
   "cell_type": "code",
   "execution_count": null,
   "id": "3e018499-e4e6-4651-9f4f-a15899e0c859",
   "metadata": {},
   "outputs": [],
   "source": [
    "n_coeff = [i for i in range(5,16)]\n",
    "res_ranfor = []\n",
    "res_mlp = []\n",
    "for i in n_coeff:\n",
    "    df_mfccs = pd.DataFrame(compute_mfcc_from_paths(paths,i),index=df.index)\n",
    "    df = pd.concat([df, df_mfccs],axis=1)\n",
    "    X = df[~mask].drop(columns=[\"age\"]).values\n",
    "    Y = df[~mask][\"age\"].values\n",
    "    x_train,x_test,y_train,y_test = train_test_split(X,Y,test_size=0.3,random_state=42)\n",
    "        \n",
    "    ranfor = RandomForestRegressor(random_state=42)\n",
    "    ranfor.fit(x_train,y_train)\n",
    "    y_pred = ranfor.predict(x_test)\n",
    "    res_ranfor.append(root_mean_squared_error(y_test,y_pred))\n",
    "\n",
    "    mlpreg = MLPRegressor((100,),random_state=42,max_iter=2000)\n",
    "    mlpreg.fit(x_train,y_train)\n",
    "    y_pred = mlpreg.predict(x_test)\n",
    "    res_mlp.append(root_mean_squared_error(y_test,y_pred))\n",
    "\n",
    "    df = df.drop(columns=df_mfccs.columns)\n",
    "\n",
    "plt.figure()\n",
    "plt.plot(n_coeff,res_ranfor,color=\"blue\",label=\"RandomForestRegressor\")\n",
    "plt.plot(n_coeff,res_mlp,color=\"red\",label=\"MLPregressor\")\n",
    "plt.legend()\n",
    "plt.xlabel(\"Number of MFCC Coefficients\")\n",
    "plt.ylabel(\"RMSE\")\n",
    "plt.title(\"Regression RMSE for Different n_coeff\")\n",
    "plt.show()\n",
    "\n",
    "df_mfccs = pd.DataFrame(compute_mfcc_from_paths(paths),index=df.index)\n",
    "df = pd.concat([df, df_mfccs],axis=1)"
   ]
  },
  {
   "cell_type": "markdown",
   "id": "96b043fc-7a48-4d86-9ac1-434ebef1ecbd",
   "metadata": {},
   "source": [
    "**PCA for the MLPregressor**"
   ]
  },
  {
   "cell_type": "code",
   "execution_count": null,
   "id": "ba838899-a4ac-468e-9ca6-1ed9643e603d",
   "metadata": {},
   "outputs": [],
   "source": [
    "X = df[~mask].drop(columns=[\"age\"]).values\n",
    "Y = df[~mask][\"age\"].values\n",
    "X_eval = df[mask].drop(columns=[\"age\"]).values\n",
    "\n",
    "scaler = StandardScaler()\n",
    "x_std = scaler.fit_transform(X)\n",
    "pca = PCA()\n",
    "pca.fit(x_std)\n",
    "\n",
    "plt.figure()\n",
    "plt.plot(np.cumsum(pca.explained_variance_ratio_))\n",
    "plt.axhline(0.9)\n",
    "plt.axvline(11)\n",
    "plt.title(\"Cumulative explained variance w.r.t. Principal Components number\")\n",
    "plt.xticks(range(pca.n_features_in_),labels=[f\"PC{i+1}\" for i in range(pca.n_features_in_)])\n",
    "plt.xlabel(\"Principal Components\")\n",
    "plt.ylabel(\"Cumulative explained variance\")\n",
    "plt.show()"
   ]
  },
  {
   "cell_type": "markdown",
   "id": "ea4a0203-2e75-460b-bb23-5baaaf3c76ba",
   "metadata": {},
   "source": [
    "**GridSearch with cross validation for Hyperparameters tuning for both models**"
   ]
  },
  {
   "cell_type": "code",
   "execution_count": null,
   "id": "26f52c7d-cf07-400d-8649-e65cd991f832",
   "metadata": {},
   "outputs": [],
   "source": [
    "parameter_grid_ranfor = {\n",
    "    \"n_estimators\": [100, 250, 500, 650],\n",
    "    \"criterion\": ['squared_error', 'absolute_error', 'friedman_mse', 'poisson'],\n",
    "    \"max_features\": [\"sqrt\", \"log2\"],\n",
    "    \"min_impurity_decrease\": [0,0.01,0.001],\n",
    "    \"min_samples_leaf\": [1,5,10],\n",
    "    \"random_state\": [42],\n",
    "    \"n_jobs\": [-1],\n",
    "}\n",
    "\n",
    "gs = GridSearchCV(RandomForestRegressor(),param_grid=parameter_grid_ranfor,cv=5,scoring=\"neg_root_mean_squared_error\",n_jobs=-1)\n",
    "gs.fit(X,Y)\n",
    "\n",
    "results = pd.DataFrame(gs.cv_results_)\n",
    "best_10_scores = results[['params', 'mean_test_score']].sort_values(by='mean_test_score', ascending=False).head(10)\n",
    "print(best_10_scores)\n",
    "\n",
    "pipeline = Pipeline([\n",
    "                ('std', StandardScaler()),\n",
    "                ('pca', PCA(12)),\n",
    "                ('mlp', MLPRegressor())\n",
    "            ])\n",
    "\n",
    "parameter_grid_pipeline = {\n",
    "    \"mlp__hidden_layer_sizes\": [(100,),(100, 50),(150,100,50)],\n",
    "    \"mlp__activation\": ['relu', 'identity', 'logistic', 'tanh'],\n",
    "    \"mlp__solver\": ['sgd', 'adam'],\n",
    "    \"mlp__learning_rate\": ['constant', 'invscaling', 'adaptive'],\n",
    "    \"mlp__max_iter\": [7000],\n",
    "    \"mlp__random_state\": [42]\n",
    "}\n",
    "\n",
    "gs = GridSearchCV(pipeline,param_grid=parameter_grid_pipeline,cv=5,scoring=\"neg_root_mean_squared_error\", n_jobs=-1)\n",
    "gs.fit(X,Y)\n",
    "\n",
    "results = pd.DataFrame(gs.cv_results_)\n",
    "best_10_scores = results[['params', 'mean_test_score']].sort_values(by='mean_test_score', ascending=False).head(10)\n",
    "print(best_10_scores)"
   ]
  },
  {
   "cell_type": "markdown",
   "id": "d5005a91-d07e-4f84-b043-415b64a48833",
   "metadata": {},
   "source": [
    "**Final models building and submission**"
   ]
  },
  {
   "cell_type": "code",
   "execution_count": null,
   "id": "d7a2c865-c47e-44c6-bfda-5d7ef17f467c",
   "metadata": {},
   "outputs": [],
   "source": [
    "random_forest = RandomForestRegressor(n_estimators=650, criterion=\"poisson\", max_features=\"sqrt\", min_impurity_decrease=0.001, min_samples_leaf=5)\n",
    "random_forest.fit(X,Y)\n",
    "y_pred = random_forest.predict(X_eval)\n",
    "df_eval[\"Predicted\"]=y_pred\n",
    "df_eval[\"Predicted\"].to_csv(\"out_random_forest.csv\",index_label=\"Id\")\n",
    "\n",
    "df_eval = df_eval.drop(columns=[\"Predicted\"])\n",
    "\n",
    "pipeline = Pipeline([\n",
    "                ('std', StandardScaler()),\n",
    "                ('pca', PCA(12)),\n",
    "                ('mlp', MLPRegressor(hidden_layer_sizes=(150,100,50), \n",
    "                        activation=\"relu\", solver=\"sgd\", learning_rate=\"invscaling\", max_iter=7000))\n",
    "                    ])\n",
    "pipeline.fit(X,Y)\n",
    "y_pred = pipeline.predict(X_eval)\n",
    "df_eval[\"Predicted\"]=y_pred\n",
    "df_eval[\"Predicted\"].to_csv(\"out_pipeline.csv\",index_label=\"Id\")"
   ]
  }
 ],
 "metadata": {
  "kernelspec": {
   "display_name": "Python 3 (ipykernel)",
   "language": "python",
   "name": "python3"
  },
  "language_info": {
   "codemirror_mode": {
    "name": "ipython",
    "version": 3
   },
   "file_extension": ".py",
   "mimetype": "text/x-python",
   "name": "python",
   "nbconvert_exporter": "python",
   "pygments_lexer": "ipython3",
   "version": "3.12.8"
  }
 },
 "nbformat": 4,
 "nbformat_minor": 5
}
